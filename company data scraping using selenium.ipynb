{
 "cells": [
  {
   "cell_type": "code",
   "execution_count": 1,
   "id": "70dd1211",
   "metadata": {},
   "outputs": [],
   "source": [
    "from selenium import webdriver\n",
    "from selenium.webdriver.chrome.service import Service\n",
    "from selenium.webdriver.common.by import By\n",
    "from webdriver_manager.chrome import ChromeDriverManager\n",
    "import pandas as pd\n",
    "import time"
   ]
  },
  {
   "cell_type": "code",
   "execution_count": 2,
   "id": "1690eadb",
   "metadata": {},
   "outputs": [],
   "source": [
    "service = Service(ChromeDriverManager().install())\n",
    "driver=webdriver.Chrome(service=service)"
   ]
  },
  {
   "cell_type": "code",
   "execution_count": 3,
   "id": "9d15cc65",
   "metadata": {},
   "outputs": [],
   "source": [
    "url = 'https://www.ambitionbox.com/list-of-companies?campaign=homepage_companies_widget'"
   ]
  },
  {
   "cell_type": "code",
   "execution_count": 4,
   "id": "7f3686d7",
   "metadata": {},
   "outputs": [],
   "source": [
    "driver.get(url)"
   ]
  },
  {
   "cell_type": "code",
   "execution_count": 5,
   "id": "3883d21e",
   "metadata": {},
   "outputs": [
    {
     "data": {
      "text/plain": [
       "<selenium.webdriver.chrome.webdriver.WebDriver (session=\"a057b1176d8be13409c36a4f60f252aa\")>"
      ]
     },
     "execution_count": 5,
     "metadata": {},
     "output_type": "execute_result"
    }
   ],
   "source": [
    "driver"
   ]
  },
  {
   "cell_type": "code",
   "execution_count": 6,
   "id": "f9b8bcf3",
   "metadata": {},
   "outputs": [],
   "source": [
    "all_company = driver.find_elements(By.CLASS_NAME, 'companyCardWrapper')"
   ]
  },
  {
   "cell_type": "code",
   "execution_count": 7,
   "id": "7876c71a",
   "metadata": {},
   "outputs": [
    {
     "name": "stdout",
     "output_type": "stream",
     "text": [
      "              Company Name Rating  \\\n",
      "0                      TCS    3.7   \n",
      "1                Accenture    3.8   \n",
      "2                    Wipro    3.7   \n",
      "3                Cognizant    3.7   \n",
      "4                Capgemini    3.7   \n",
      "5                HDFC Bank    3.9   \n",
      "6                  Infosys    3.6   \n",
      "7               ICICI Bank    4.0   \n",
      "8                  HCLTech    3.5   \n",
      "9            Tech Mahindra    3.5   \n",
      "10                 Genpact    3.8   \n",
      "11         Teleperformance    3.9   \n",
      "12  Concentrix Corporation    3.8   \n",
      "13               Axis Bank    3.8   \n",
      "14                  Amazon    4.1   \n",
      "15                     Jio    4.0   \n",
      "16              iEnergizer    4.6   \n",
      "17         Reliance Retail    3.9   \n",
      "18                     IBM    4.0   \n",
      "19             LTIMindtree    3.8   \n",
      "\n",
      "                                             Location Reviews Salary   Jobs  \n",
      "0   IT Services & Consulting | Bangalore / Bengalu...   92.4k   8.8L    133  \n",
      "1   IT Services & Consulting | Bangalore / Bengalu...   58.4k   5.9L  16.7k  \n",
      "2   IT Services & Consulting | Bangalore / Bengalu...   54.5k   4.5L   2.1k  \n",
      "3   IT Services & Consulting | Chennai +199 other ...   51.7k   5.7L    256  \n",
      "4   IT Services & Consulting | Bangalore / Bengalu...   43.2k   4.3L     2k  \n",
      "5              Banking | Mumbai +1667 other locations   40.8k   1.4L    519  \n",
      "6   IT Services & Consulting | Bangalore / Bengalu...   40.6k   4.7L   1.9k  \n",
      "7              Banking | Mumbai +1357 other locations   39.1k   1.5L      1  \n",
      "8   IT Services & Consulting | Chennai +209 other ...   37.3k   3.3L    194  \n",
      "9   IT Services & Consulting | Hyderabad / Secunde...   36.2k   2.7L    655  \n",
      "10  IT Services & Consulting | Hyderabad / Secunde...   32.5k   2.1L    491  \n",
      "11                  BPO | Mumbai +217 other locations   30.5k  91.9k    442  \n",
      "12   BPO | Bangalore / Bengaluru +150 other locations   27.1k   1.2L     99  \n",
      "13             Banking | Mumbai +1391 other locations   26.2k  99.9k    179  \n",
      "14  Internet | Bangalore / Bengaluru +468 other lo...   25.8k   1.3L   2.4k  \n",
      "15             Telecom | Mumbai +1320 other locations   23.9k    63k    146  \n",
      "16                    BPO | Noida +42 other locations   23.2k  22.8k    237  \n",
      "17              Retail | Mumbai +1065 other locations     23k  66.8k     79  \n",
      "18  IT Services & Consulting | Bangalore / Bengalu...     23k     2L    993  \n",
      "19  IT Services & Consulting | Bangalore / Bengalu...   21.7k   1.7L    326  \n"
     ]
    }
   ],
   "source": [
    "company_data = []\n",
    "\n",
    "for company in all_company:\n",
    "    company_info={}\n",
    "    try:\n",
    "        name = company.find_element(By.CLASS_NAME,'companyCardWrapper__companyName').text\n",
    "    except:\n",
    "        name=float('nan')\n",
    "        \n",
    "    try:\n",
    "        rating = company.find_element(By.CSS_SELECTOR,'.rating_star_container .rating_text--md ').text\n",
    "    except:\n",
    "        rating=float('nan')\n",
    "        \n",
    "    try:\n",
    "        location = company.find_element(By.CLASS_NAME,'companyCardWrapper__interLinking').text\n",
    "    except:\n",
    "        location=float('nan')\n",
    "        \n",
    "    try:\n",
    "        action_counts = company.find_elements(By.CLASS_NAME, 'companyCardWrapper__ActionCount')\n",
    "        reviews = action_counts[0].text\n",
    "        salary = action_counts[1].text  \n",
    "        jobs = action_counts[3].text    \n",
    "    except:\n",
    "        reviews = float('nan')\n",
    "        salary = float('nan')\n",
    "        jobs = float('nan')\n",
    "        \n",
    "    company_info = {\n",
    "        'Company Name': name,\n",
    "        'Rating': rating,\n",
    "        'Location': location,\n",
    "        'Reviews': reviews,\n",
    "        'Salary': salary,\n",
    "        'Jobs': jobs\n",
    "    }\n",
    "    company_data.append(company_info)\n",
    "df = pd.DataFrame(company_data)\n",
    "\n",
    "# Display the DataFrame\n",
    "print(df)\n",
    "\n",
    "# Close the WebDriver\n",
    "driver.quit()\n",
    "        "
   ]
  },
  {
   "cell_type": "code",
   "execution_count": 8,
   "id": "a6477b96",
   "metadata": {},
   "outputs": [],
   "source": [
    "df.to_csv('company_data.csv', index=False)"
   ]
  }
 ],
 "metadata": {
  "kernelspec": {
   "display_name": "Python 3 (ipykernel)",
   "language": "python",
   "name": "python3"
  },
  "language_info": {
   "codemirror_mode": {
    "name": "ipython",
    "version": 3
   },
   "file_extension": ".py",
   "mimetype": "text/x-python",
   "name": "python",
   "nbconvert_exporter": "python",
   "pygments_lexer": "ipython3",
   "version": "3.9.12"
  }
 },
 "nbformat": 4,
 "nbformat_minor": 5
}
