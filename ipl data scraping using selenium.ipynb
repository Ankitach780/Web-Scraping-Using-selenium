{
 "cells": [
  {
   "cell_type": "code",
   "execution_count": 1,
   "id": "52e8cda1",
   "metadata": {},
   "outputs": [],
   "source": [
    "from selenium import webdriver\n",
    "from selenium.webdriver.chrome.service import Service\n",
    "from selenium.webdriver.common.by import By\n",
    "from webdriver_manager.chrome import ChromeDriverManager\n",
    "import pandas as pd\n",
    "import time"
   ]
  },
  {
   "cell_type": "code",
   "execution_count": 2,
   "id": "d30199cb",
   "metadata": {},
   "outputs": [],
   "source": [
    "service = Service(ChromeDriverManager().install())\n",
    "driver = webdriver.Chrome(service=service)"
   ]
  },
  {
   "cell_type": "code",
   "execution_count": 3,
   "id": "09d8c48c",
   "metadata": {},
   "outputs": [],
   "source": [
    "web = \"https://www.iplt20.com/points-table/men/2020\""
   ]
  },
  {
   "cell_type": "code",
   "execution_count": 4,
   "id": "59c04b9a",
   "metadata": {},
   "outputs": [],
   "source": [
    "driver.get(web)"
   ]
  },
  {
   "cell_type": "code",
   "execution_count": 5,
   "id": "044c5fa4",
   "metadata": {},
   "outputs": [],
   "source": [
    "a= driver.find_elements(By.TAG_NAME,'tr')"
   ]
  },
  {
   "cell_type": "code",
   "execution_count": 7,
   "id": "5026d2aa",
   "metadata": {},
   "outputs": [
    {
     "name": "stdout",
     "output_type": "stream",
     "text": [
      "{'position': '1', 'team': 'MI', 'match': '14'}\n",
      "{'position': '2', 'team': 'DC', 'match': '14'}\n",
      "{'position': '3', 'team': 'SRH', 'match': '14'}\n",
      "{'position': '4', 'team': 'RCB', 'match': '14'}\n",
      "{'position': '5', 'team': 'KKR', 'match': '14'}\n",
      "{'position': '6', 'team': 'PBKS', 'match': '14'}\n",
      "{'position': '7', 'team': 'CSK', 'match': '14'}\n",
      "{'position': '8', 'team': 'RR', 'match': '14'}\n"
     ]
    }
   ],
   "source": [
    "for i in a:\n",
    "    cols = i.find_elements(By.TAG_NAME,'td')\n",
    "    if len(cols) >= 8:\n",
    "        data={\n",
    "            'position':cols[0].text.strip(),\n",
    "            'team': cols[1].text.strip(),\n",
    "            'match': cols[2].text.strip()\n",
    "        }\n",
    "        print(data)"
   ]
  },
  {
   "cell_type": "code",
   "execution_count": 11,
   "id": "81876e05",
   "metadata": {},
   "outputs": [],
   "source": [
    "Ipl_data = []\n",
    "for i in range(2008,2025):\n",
    "    web=f'https://www.iplt20.com/points-table/men/{i}'\n",
    "    driver.get(web)\n",
    "    time.sleep(3)\n",
    "    a=driver.find_elements(By.TAG_NAME,'tr')\n",
    "    for j in a:\n",
    "        cols = j.find_elements(By.TAG_NAME,'td')\n",
    "        if len(cols) >= 8:\n",
    "            data={\n",
    "                'year':i,\n",
    "                'position':cols[0].text.strip(),\n",
    "                'team':cols[1].text.strip(),\n",
    "                'match': cols[2].text.strip()\n",
    "            }\n",
    "            Ipl_data.append(data)"
   ]
  },
  {
   "cell_type": "code",
   "execution_count": 12,
   "id": "b2f114be",
   "metadata": {},
   "outputs": [
    {
     "name": "stdout",
     "output_type": "stream",
     "text": [
      "Data has been written to ipl_data.csv\n"
     ]
    }
   ],
   "source": [
    "import csv\n",
    "csv_file = 'ipl_data.csv'\n",
    "with open(csv_file, mode='w', newline='', encoding='utf-8') as file:\n",
    "    \n",
    "    writer = csv.DictWriter(file, fieldnames=['year','position','team','match'])\n",
    "    writer.writeheader()\n",
    "    for row in Ipl_data:\n",
    "        writer.writerow(row)\n",
    "        \n",
    "print(f'Data has been written to {csv_file}')\n",
    "\n",
    "driver.quit()"
   ]
  },
  {
   "cell_type": "code",
   "execution_count": null,
   "id": "e68ede96",
   "metadata": {},
   "outputs": [],
   "source": []
  }
 ],
 "metadata": {
  "kernelspec": {
   "display_name": "Python 3 (ipykernel)",
   "language": "python",
   "name": "python3"
  },
  "language_info": {
   "codemirror_mode": {
    "name": "ipython",
    "version": 3
   },
   "file_extension": ".py",
   "mimetype": "text/x-python",
   "name": "python",
   "nbconvert_exporter": "python",
   "pygments_lexer": "ipython3",
   "version": "3.9.12"
  }
 },
 "nbformat": 4,
 "nbformat_minor": 5
}
